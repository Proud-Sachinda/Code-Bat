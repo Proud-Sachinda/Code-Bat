{
 "cells": [
  {
   "cell_type": "code",
   "execution_count": 2,
   "metadata": {},
   "outputs": [
    {
     "data": {
      "text/plain": [
       "'file:///home/proud/Desktop/COMS 3/COMS 3009 - Software Design/Project/Code-Bat/Development/plotting/temp-plot.html'"
      ]
     },
     "execution_count": 2,
     "metadata": {},
     "output_type": "execute_result"
    }
   ],
   "source": [
    "import plotly\n",
    "import plotly.plotly as pt\n",
    "import plotly.figure_factory as myfig\n",
    "import pandas as pd\n",
    "\n",
    "#details = pd.read_csv(\"data.csv\")\n",
    "#details = pd.read_excel(\"data.xlsx\")\n",
    "\n",
    "details = [dict(Task=\"Reactor 1\", Start=\"2009-01-01 1\", Finish=\"2009-01-01 2\"),\n",
    "           dict(Task=\"Reactor 2\", Start=\"2009-01-01 3\", Finish=\"2009-01-01 4\"),\n",
    "           dict(Task=\"Reactor 3\", Start=\"2009-01-01 5\",Finish=\"2009-01-01 6\")]\n",
    "\n",
    "#details = [dict(Task=\"Reactor 1\", Start=2, Finish=4),\n",
    "#           dict(Task=\"Reactor 2\", Start=6, Finish=8),\n",
    "#           dict(Task=\"Reactor 3\", Start=10,Finish=12)]\n",
    "\n",
    "\n",
    "diagram = myfig.create_gantt(details)\n",
    "\n",
    "plotly.offline.plot(diagram)\n"
   ]
  },
  {
   "cell_type": "code",
   "execution_count": null,
   "metadata": {},
   "outputs": [],
   "source": []
  },
  {
   "cell_type": "code",
   "execution_count": null,
   "metadata": {},
   "outputs": [],
   "source": []
  },
  {
   "cell_type": "code",
   "execution_count": null,
   "metadata": {},
   "outputs": [],
   "source": []
  }
 ],
 "metadata": {
  "kernelspec": {
   "display_name": "Python 3",
   "language": "python",
   "name": "python3"
  },
  "language_info": {
   "codemirror_mode": {
    "name": "ipython",
    "version": 3
   },
   "file_extension": ".py",
   "mimetype": "text/x-python",
   "name": "python",
   "nbconvert_exporter": "python",
   "pygments_lexer": "ipython3",
   "version": "3.6.4"
  }
 },
 "nbformat": 4,
 "nbformat_minor": 2
}
