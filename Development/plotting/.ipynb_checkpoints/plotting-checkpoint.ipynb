{
 "cells": [
  {
   "cell_type": "code",
   "execution_count": 1,
   "metadata": {},
   "outputs": [
    {
     "ename": "NameError",
     "evalue": "name 'plotly' is not defined",
     "output_type": "error",
     "traceback": [
      "\u001b[0;31m---------------------------------------------------------------------------\u001b[0m",
      "\u001b[0;31mNameError\u001b[0m                                 Traceback (most recent call last)",
      "\u001b[0;32m<ipython-input-1-28b5beba7285>\u001b[0m in \u001b[0;36m<module>\u001b[0;34m()\u001b[0m\n\u001b[1;32m     17\u001b[0m \u001b[0mdiagram\u001b[0m \u001b[0;34m=\u001b[0m \u001b[0mmyfig\u001b[0m\u001b[0;34m.\u001b[0m\u001b[0mcreate_gantt\u001b[0m\u001b[0;34m(\u001b[0m\u001b[0mdetails\u001b[0m\u001b[0;34m)\u001b[0m\u001b[0;34m\u001b[0m\u001b[0m\n\u001b[1;32m     18\u001b[0m \u001b[0;34m\u001b[0m\u001b[0m\n\u001b[0;32m---> 19\u001b[0;31m \u001b[0mplotly\u001b[0m\u001b[0;34m.\u001b[0m\u001b[0moffline\u001b[0m\u001b[0;34m.\u001b[0m\u001b[0mplot\u001b[0m\u001b[0;34m(\u001b[0m\u001b[0mdiagram\u001b[0m\u001b[0;34m)\u001b[0m\u001b[0;34m\u001b[0m\u001b[0m\n\u001b[0m",
      "\u001b[0;31mNameError\u001b[0m: name 'plotly' is not defined"
     ]
    }
   ],
   "source": [
    "import plotly.plotly as pt\n",
    "import plotly.figure_factory as myfig\n",
    "import pandas as pd\n",
    "\n",
    "#details = pd.read_csv(\"data.csv\")\n",
    "details = pd.read_excel(\"data.xlsx\")\n",
    "\n",
    "#details = [dict(Task=\"Reactor 1\", Start=\"2009-01-01 1\", Finish=\"2009-01-01 2\"),\n",
    "#           dict(Task=\"Reactor 2\", Start=\"2009-01-01 3\", Finish=\"2009-01-01 4\"),\n",
    "#           dict(Task=\"Reactor 3\", Start=\"2009-01-01 5\",Finish=\"2009-01-01 6\")]\n",
    "\n",
    "#details = [dict(Task=\"Reactor 1\", Start=2, Finish=4),\n",
    "#           dict(Task=\"Reactor 2\", Start=6, Finish=8),\n",
    "#           dict(Task=\"Reactor 3\", Start=10,Finish=12)]\n",
    "\n",
    "\n",
    "diagram = myfig.create_gantt(details)\n",
    "\n",
    "plotly.offline.plot(diagram)\n"
   ]
  },
  {
   "cell_type": "code",
   "execution_count": null,
   "metadata": {},
   "outputs": [],
   "source": []
  },
  {
   "cell_type": "code",
   "execution_count": null,
   "metadata": {},
   "outputs": [],
   "source": []
  }
 ],
 "metadata": {
  "kernelspec": {
   "display_name": "Python 3",
   "language": "python",
   "name": "python3"
  },
  "language_info": {
   "codemirror_mode": {
    "name": "ipython",
    "version": 3
   },
   "file_extension": ".py",
   "mimetype": "text/x-python",
   "name": "python",
   "nbconvert_exporter": "python",
   "pygments_lexer": "ipython3",
   "version": "3.6.4"
  }
 },
 "nbformat": 4,
 "nbformat_minor": 2
}
